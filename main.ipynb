{
 "cells": [
  {
   "cell_type": "code",
   "execution_count": 1,
   "id": "65435e7a",
   "metadata": {},
   "outputs": [],
   "source": [
    "from tkinter import *\n",
    "import tkinter.font as font\n",
    "from PIL import ImageTk, Image\n",
    "import pyqrcode\n",
    "import png\n",
    "from pyqrcode import QRCode\n",
    "\n",
    "\n",
    "root = Tk()\n",
    "root.title('Link-QR')\n",
    "root.config(bg='#000')\n",
    "root.iconbitmap('icon.ico')\n",
    "root.resizable(0, 0)\n",
    "myFont = font.Font(family='Times', size=12)\n",
    "\n",
    "\n",
    "def create_qr(name):\n",
    "    qr = pyqrcode.create(name)\n",
    "    image_name=''.join(e for e in name if e.isalnum())\n",
    "    qr.png(image_name + '.png', scale=10)\n",
    "\n",
    "    global qr_img\n",
    "    qr_img = ImageTk.PhotoImage(Image.open(image_name+'.png'))\n",
    "    image_label = Label(root, image=qr_img)\n",
    "    image_label.grid(row=3, column=1,columnspan=3,padx=10,pady=10,ipadx=10)\n",
    "\n",
    "    prompt_entry.delete(0, END)\n",
    "\n",
    "\n",
    "status = Label(root, text=\"Sarthak Keshari - Copyright 2020. All rights reserved.\", bd=1, relief=SUNKEN,anchor=E)\n",
    "status['font'] = font.Font(size=7)\n",
    "status.grid(row=0, column=1, columnspan=3, sticky=W + E,pady=(0,20))\n",
    "\n",
    "prompt_label = Label(root, text=\"Enter any link\",bg='#000',fg='#fff')\n",
    "prompt_label['font'] = myFont\n",
    "prompt_label.grid(row=1, column=1, padx=(10, 0), pady=10)\n",
    "\n",
    "prompt_entry = Entry(root, bd=1, width=35, relief=GROOVE)\n",
    "prompt_entry['font'] = myFont\n",
    "prompt_entry.grid(row=1, column=2, padx=20, pady=10, ipady=5)\n",
    "\n",
    "prompt_button = Button(root, text=\"Create QR\", bd=1, command=lambda: create_qr(prompt_entry.get()))\n",
    "prompt_button['font'] = myFont\n",
    "prompt_button.grid(row=1, column=3, padx=10)\n",
    "\n",
    "\n",
    "mainloop()"
   ]
  },
  {
   "cell_type": "code",
   "execution_count": null,
   "id": "739609c4",
   "metadata": {},
   "outputs": [],
   "source": []
  }
 ],
 "metadata": {
  "kernelspec": {
   "display_name": "Python 3",
   "language": "python",
   "name": "python3"
  },
  "language_info": {
   "codemirror_mode": {
    "name": "ipython",
    "version": 3
   },
   "file_extension": ".py",
   "mimetype": "text/x-python",
   "name": "python",
   "nbconvert_exporter": "python",
   "pygments_lexer": "ipython3",
   "version": "3.6.13"
  }
 },
 "nbformat": 4,
 "nbformat_minor": 5
}
